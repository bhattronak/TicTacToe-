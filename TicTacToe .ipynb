{
 "cells": [
  {
   "cell_type": "code",
   "execution_count": 2,
   "metadata": {},
   "outputs": [],
   "source": [
    "#sentdex learning python 3.7 \n",
    "#part6 start\n",
    "\n",
    "game=[[0,0,0],\n",
    "      [0,0,0],\n",
    "      [0,0,0]]"
   ]
  },
  {
   "cell_type": "code",
   "execution_count": 3,
   "metadata": {},
   "outputs": [
    {
     "name": "stdout",
     "output_type": "stream",
     "text": [
      "[[0, 0, 0], [0, 0, 0], [0, 0, 0]]\n"
     ]
    }
   ],
   "source": [
    "print(game)"
   ]
  },
  {
   "cell_type": "code",
   "execution_count": 4,
   "metadata": {},
   "outputs": [],
   "source": [
    "def game_board(game_map,player=0,row=0,column=0,just_display=False):\n",
    "    try:\n",
    "        print('   0  1  2')\n",
    "        if not just_display:\n",
    "            game_map[row][column]=player\n",
    "        for count,row in enumerate(game):\n",
    "            print(count,row)\n",
    "        return game_map\n",
    "    except IndexError as e:\n",
    "        print('Error: Enter row/column in between 0 to 2:',e)\n",
    "    except Exception as e:\n",
    "        print('Something went very wrong')\n",
    "\n",
    "    "
   ]
  },
  {
   "cell_type": "code",
   "execution_count": 5,
   "metadata": {},
   "outputs": [],
   "source": [
    "#Horizontal winner\n",
    "def win(game):\n",
    "            a=list(range(len(game)))\n",
    "            a.reverse()\n",
    "            b=list(range(len(game)))\n",
    "            dig1=[]\n",
    "            for i in a:\n",
    "                dig1.append(game[i][a[i]])\n",
    "            if dig1.count(dig1[0])==len(game) and dig1[0]!=0:\n",
    "                    print('You are diagonally winner(/)')\n",
    "                    winner=1\n",
    "            \n",
    "            dig2=[]\n",
    "            for j in b:\n",
    "                dig2.append(game[j][j])\n",
    "                if dig2.count(dig2[0])==len(game) and dig2[0]!=0:\n",
    "                    print('You are diagonally winner(\\)')\n",
    "                    winner=1\n",
    "                        \n",
    "##############################################################\n",
    "            for j in range(len(game)):\n",
    "                    col=[]\n",
    "            for row in game:\n",
    "                    col.append(row[j])\n",
    "            if col.count(col[0])==len(game) and col[0]!=0:\n",
    "                    print('You are winner with vertical matches at column(|)',col)\n",
    "                    winner=1\n",
    "          \n",
    "#################################################################\n",
    "            for row in game:\n",
    "                if row.count(row[0])==len(row) and row[0]!=0:\n",
    "                    print('You are winner with horizontal mathes at row(-)',row)\n",
    "                    winner=1\n",
    "            \n",
    "                    \n",
    "    \n",
    "########################################################################\n",
    "            \n",
    "       "
   ]
  },
  {
   "cell_type": "code",
   "execution_count": 6,
   "metadata": {},
   "outputs": [
    {
     "ename": "NameError",
     "evalue": "name 'winner' is not defined",
     "output_type": "error",
     "traceback": [
      "\u001b[1;31m---------------------------------------------------------------------------\u001b[0m",
      "\u001b[1;31mNameError\u001b[0m                                 Traceback (most recent call last)",
      "\u001b[1;32m<ipython-input-6-9e2734b64538>\u001b[0m in \u001b[0;36m<module>\u001b[1;34m\u001b[0m\n\u001b[1;32m----> 1\u001b[1;33m \u001b[0mwinner\u001b[0m\u001b[1;33m\u001b[0m\u001b[1;33m\u001b[0m\u001b[0m\n\u001b[0m",
      "\u001b[1;31mNameError\u001b[0m: name 'winner' is not defined"
     ]
    }
   ],
   "source": [
    "winner"
   ]
  },
  {
   "cell_type": "code",
   "execution_count": null,
   "metadata": {},
   "outputs": [],
   "source": [
    "#Vertical win\n",
    "for j in range(len(game)):\n",
    "    col=[]\n",
    "    for row in game:\n",
    "            col.append(row[j])\n",
    "    if col.count(col[0])==len(game) and col[0]!=0:\n",
    "        print('You are winner with vertical matches at column(|)',col)"
   ]
  },
  {
   "cell_type": "code",
   "execution_count": 7,
   "metadata": {},
   "outputs": [],
   "source": [
    "#Diagonal win\n",
    "a=list(range(len(game)))\n",
    "a.reverse()\n",
    "b=list(range(len(game)))\n",
    "dig1=[]\n",
    "for i in a:\n",
    "    dig1.append(game[i][a[i]])\n",
    "if dig1.count(dig1[0])==len(game) and dig1[0]!=0:\n",
    "        print('You are diagonally winner(/)')\n",
    "        \n",
    "dig2=[]\n",
    "for j in b:\n",
    "    dig2.append(game[j][j])\n",
    "if dig2.count(dig2[0])==len(game) and dig2[0]!=0:\n",
    "    print('You are diagonally winner(\\)')\n",
    "    "
   ]
  },
  {
   "cell_type": "code",
   "execution_count": 8,
   "metadata": {},
   "outputs": [
    {
     "name": "stdout",
     "output_type": "stream",
     "text": [
      "Do you want to play TicTacToe?(Y/N): Y\n",
      "Let's play\n",
      "For player1 enter choosen row:1\n",
      "For player1 enter choosen column:1\n",
      "   0  1  2\n",
      "0 [0, 0, 0]\n",
      "1 [0, 1, 0]\n",
      "2 [0, 0, 0]\n",
      "For player2 enter choosen row:2\n",
      "For player2 enter choosen column:2\n",
      "   0  1  2\n",
      "0 [0, 0, 0]\n",
      "1 [0, 1, 0]\n",
      "2 [0, 0, 2]\n",
      "For player1 enter choosen row:0\n",
      "For player1 enter choosen column:0\n",
      "   0  1  2\n",
      "0 [1, 0, 0]\n",
      "1 [0, 1, 0]\n",
      "2 [0, 0, 2]\n",
      "For player2 enter choosen row:0\n",
      "For player2 enter choosen column:1\n",
      "   0  1  2\n",
      "0 [1, 2, 0]\n",
      "1 [0, 1, 0]\n",
      "2 [0, 0, 2]\n",
      "For player1 enter choosen row:0\n",
      "For player1 enter choosen column:2\n",
      "   0  1  2\n",
      "0 [1, 2, 1]\n",
      "1 [0, 1, 0]\n",
      "2 [0, 0, 2]\n",
      "For player2 enter choosen row:1\n",
      "For player2 enter choosen column:2\n",
      "   0  1  2\n",
      "0 [1, 2, 1]\n",
      "1 [0, 1, 2]\n",
      "2 [0, 0, 2]\n",
      "For player1 enter choosen row:2\n",
      "For player1 enter choosen column:0\n",
      "   0  1  2\n",
      "0 [1, 2, 1]\n",
      "1 [0, 1, 2]\n",
      "2 [1, 0, 2]\n",
      "You are diagonally winner(/)\n",
      "For player2 enter choosen row:\n"
     ]
    },
    {
     "ename": "ValueError",
     "evalue": "invalid literal for int() with base 10: ''",
     "output_type": "error",
     "traceback": [
      "\u001b[1;31m---------------------------------------------------------------------------\u001b[0m",
      "\u001b[1;31mValueError\u001b[0m                                Traceback (most recent call last)",
      "\u001b[1;32m<ipython-input-8-2deaaabce48e>\u001b[0m in \u001b[0;36m<module>\u001b[1;34m\u001b[0m\n\u001b[0;32m     18\u001b[0m                         \u001b[0mplayer\u001b[0m\u001b[1;33m=\u001b[0m\u001b[1;36m2\u001b[0m\u001b[1;33m\u001b[0m\u001b[1;33m\u001b[0m\u001b[0m\n\u001b[0;32m     19\u001b[0m                     \u001b[1;32mif\u001b[0m \u001b[0mplayer\u001b[0m\u001b[1;33m==\u001b[0m\u001b[1;36m2\u001b[0m\u001b[1;33m:\u001b[0m\u001b[1;33m\u001b[0m\u001b[1;33m\u001b[0m\u001b[0m\n\u001b[1;32m---> 20\u001b[1;33m                         \u001b[0minput_row\u001b[0m\u001b[1;33m=\u001b[0m\u001b[0mint\u001b[0m\u001b[1;33m(\u001b[0m\u001b[0minput\u001b[0m\u001b[1;33m(\u001b[0m\u001b[1;34m'For player2 enter choosen row:'\u001b[0m\u001b[1;33m)\u001b[0m\u001b[1;33m)\u001b[0m\u001b[1;33m\u001b[0m\u001b[1;33m\u001b[0m\u001b[0m\n\u001b[0m\u001b[0;32m     21\u001b[0m                         \u001b[0minput_column\u001b[0m\u001b[1;33m=\u001b[0m\u001b[0mint\u001b[0m\u001b[1;33m(\u001b[0m\u001b[0minput\u001b[0m\u001b[1;33m(\u001b[0m\u001b[1;34m'For player2 enter choosen column:'\u001b[0m\u001b[1;33m)\u001b[0m\u001b[1;33m)\u001b[0m\u001b[1;33m\u001b[0m\u001b[1;33m\u001b[0m\u001b[0m\n\u001b[0;32m     22\u001b[0m                         \u001b[0mgame\u001b[0m \u001b[1;33m=\u001b[0m \u001b[0mgame_board\u001b[0m\u001b[1;33m(\u001b[0m\u001b[0mgame\u001b[0m\u001b[1;33m,\u001b[0m\u001b[0mplayer\u001b[0m\u001b[1;33m=\u001b[0m\u001b[1;36m2\u001b[0m\u001b[1;33m,\u001b[0m\u001b[0mrow\u001b[0m\u001b[1;33m=\u001b[0m\u001b[0minput_row\u001b[0m\u001b[1;33m,\u001b[0m\u001b[0mcolumn\u001b[0m\u001b[1;33m=\u001b[0m\u001b[0minput_column\u001b[0m\u001b[1;33m,\u001b[0m\u001b[0mjust_display\u001b[0m\u001b[1;33m=\u001b[0m\u001b[1;32mFalse\u001b[0m\u001b[1;33m)\u001b[0m\u001b[1;33m\u001b[0m\u001b[1;33m\u001b[0m\u001b[0m\n",
      "\u001b[1;31mValueError\u001b[0m: invalid literal for int() with base 10: ''"
     ]
    }
   ],
   "source": [
    "winner=0\n",
    "User_choice=input('Do you want to play TicTacToe?(Y/N): ')\n",
    "player=1\n",
    "\n",
    "if User_choice=='Y':\n",
    "    game=[[0,0,0],\n",
    "      [0,0,0],\n",
    "      [0,0,0]]\n",
    "    print('Let\\'s play')\n",
    "    if winner==0:\n",
    "        for x in list(range(100)):\n",
    "                    if player==1:\n",
    "                        input_row=int(input('For player1 enter choosen row:'))\n",
    "                        input_column=int(input('For player1 enter choosen column:'))\n",
    "                        game = game_board(game,player=1,row=input_row,column=input_column,just_display=False)\n",
    "                        player=2\n",
    "                        win(game)\n",
    "                        player=2\n",
    "                    if player==2:\n",
    "                        input_row=int(input('For player2 enter choosen row:'))\n",
    "                        input_column=int(input('For player2 enter choosen column:'))\n",
    "                        game = game_board(game,player=2,row=input_row,column=input_column,just_display=False)\n",
    "                        win(game)\n",
    "                        player=1\n",
    "                   \n",
    "    else:\n",
    "        print('Game over')\n",
    "        "
   ]
  },
  {
   "cell_type": "code",
   "execution_count": 9,
   "metadata": {},
   "outputs": [
    {
     "data": {
      "text/plain": [
       "0"
      ]
     },
     "execution_count": 9,
     "metadata": {},
     "output_type": "execute_result"
    }
   ],
   "source": [
    "winner"
   ]
  },
  {
   "cell_type": "code",
   "execution_count": 10,
   "metadata": {},
   "outputs": [
    {
     "name": "stdout",
     "output_type": "stream",
     "text": [
      "False\n",
      "You are winner with horizontal mathes at row(-) [1, 1, 1]\n",
      "True\n"
     ]
    },
    {
     "data": {
      "text/plain": [
       "True"
      ]
     },
     "execution_count": 10,
     "metadata": {},
     "output_type": "execute_result"
    }
   ],
   "source": [
    "game=[[1,1,1],\n",
    "      [0,0,0],\n",
    "      [1,0,1]]\n",
    "\n",
    "winner=False\n",
    "print(winner)\n",
    "def won(game):\n",
    "           \n",
    "            for row in game:\n",
    "                if row.count(row[0])==len(row) and row[0]!=0:\n",
    "                    print('You are winner with horizontal mathes at row(-)',row)\n",
    "                    global winner\n",
    "                    winner=True\n",
    "                    print(winner)\n",
    "won(game)\n",
    "winner"
   ]
  },
  {
   "cell_type": "code",
   "execution_count": null,
   "metadata": {},
   "outputs": [],
   "source": []
  }
 ],
 "metadata": {
  "kernelspec": {
   "display_name": "Python 3",
   "language": "python",
   "name": "python3"
  },
  "language_info": {
   "codemirror_mode": {
    "name": "ipython",
    "version": 3
   },
   "file_extension": ".py",
   "mimetype": "text/x-python",
   "name": "python",
   "nbconvert_exporter": "python",
   "pygments_lexer": "ipython3",
   "version": "3.7.6"
  }
 },
 "nbformat": 4,
 "nbformat_minor": 4
}
